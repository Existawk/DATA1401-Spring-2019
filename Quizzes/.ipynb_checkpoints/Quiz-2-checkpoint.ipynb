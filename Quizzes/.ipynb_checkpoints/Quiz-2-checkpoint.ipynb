{
 "cells": [
  {
   "cell_type": "code",
   "execution_count": 1,
   "metadata": {},
   "outputs": [],
   "source": [
    "from gradebook import *"
   ]
  },
  {
   "cell_type": "code",
   "execution_count": 9,
   "metadata": {},
   "outputs": [],
   "source": [
    "class grade_calculator(alg):\n",
    "    __stats=False\n",
    "    \n",
    "    def __init__(self,name,stats):\n",
    "        self.__stats=stats\n",
    "        alg.__init__(self,name)\n",
    "\n",
    "    def apply(self,a_grade):\n",
    "        raise NotImplementedError\n",
    "        \n",
    "class curved_letter_grader(grade_calculator):\n",
    "    __grades_definition=[]\n",
    "    __max_grade=100.\n",
    "    __grade_name=str()\n",
    "    __mean=80.\n",
    "    __variance=10\n",
    "    def __init__(self,grade_name,max_grade=100.):\n",
    "        self.__max_grade=max_grade\n",
    "        self.__grade_name=grade_name\n",
    "        grade_calculator.__init__(self,\n",
    "                                  \"Curved Percent Based Grade Calculator \"+self.__grade_name+\" Max=\"+str(self.__max_grade),\n",
    "                                 False)\n",
    "        __grades_definition=[ (mean+(1*variance),\"A\"),\n",
    "                              (mean+(0*variance),\"B\"),\n",
    "                              (mean-(1*variance),\"C\"),\n",
    "                              (mean-(2*variance),\"D\"),\n",
    "                              (mean-(3*variance),\"F\")]\n",
    "\n",
    "    def apply(self,a_grade):\n",
    "        if not isinstance(a_grade,grade):\n",
    "            print isinstance(a_grade,grade)\n",
    "            print self.name()+ \" Error: Did not get an proper grade as input.\"\n",
    "            raise Exception\n",
    "        if not a_grade.numerical():\n",
    "            print self.name()+ \" Error: Did not get a numerical grade as input.\"\n",
    "            raise Exception\n",
    "\n",
    "        percent=a_grade.value()/self.__max_grade\n",
    "        \n",
    "        for i,v in enumerate(self.__grades_definition):\n",
    "            #print percent, i, v\n",
    "            if percent>=v[0]:\n",
    "                break\n",
    "                            \n",
    "        return grade(self.__grade_name,value=self.__grades_definition[i][1])"
   ]
  },
  {
   "cell_type": "code",
   "execution_count": null,
   "metadata": {},
   "outputs": [],
   "source": []
  }
 ],
 "metadata": {
  "kernelspec": {
   "display_name": "Python 2",
   "language": "python",
   "name": "python2"
  },
  "language_info": {
   "codemirror_mode": {
    "name": "ipython",
    "version": 2
   },
   "file_extension": ".py",
   "mimetype": "text/x-python",
   "name": "python",
   "nbconvert_exporter": "python",
   "pygments_lexer": "ipython2",
   "version": "2.7.15"
  }
 },
 "nbformat": 4,
 "nbformat_minor": 2
}
