{
 "cells": [
  {
   "cell_type": "code",
   "execution_count": 94,
   "metadata": {},
   "outputs": [],
   "source": [
    "# 1."
   ]
  },
  {
   "cell_type": "code",
   "execution_count": 2,
   "metadata": {},
   "outputs": [],
   "source": [
    "import numpy as np\n",
    "import matplotlib.pyplot as plt "
   ]
  },
  {
   "cell_type": "code",
   "execution_count": 3,
   "metadata": {},
   "outputs": [],
   "source": [
    "def hatFunc1(x):\n",
    "    if x < 0:\n",
    "        return 0.0\n",
    "    elif 0 <= x < 1:\n",
    "        return x\n",
    "    elif 1 <= x < 2:\n",
    "        return 2 - x\n",
    "    elif x >= 2:\n",
    "        return 0.0"
   ]
  },
  {
   "cell_type": "code",
   "execution_count": 4,
   "metadata": {},
   "outputs": [],
   "source": [
    "def hatFunc2(x):\n",
    "    x=np.where(x<0,0,x)\n",
    "    x=np.where(np.logical_and(0<=x,x<1),x,x)\n",
    "    x=np.where(np.logical_and(1<=x,x<2),(2-x),x)\n",
    "    x=np.where(x>=2,0,x)\n",
    "    return x"
   ]
  },
  {
   "cell_type": "code",
   "execution_count": 5,
   "metadata": {},
   "outputs": [
    {
     "name": "stdout",
     "output_type": "stream",
     "text": [
      "[0.  0.5 0.3 0. ]\n"
     ]
    }
   ],
   "source": [
    "a=np.array([-6,.5,1.7,69])\n",
    "print hatFunc2(a)"
   ]
  },
  {
   "cell_type": "code",
   "execution_count": 6,
   "metadata": {},
   "outputs": [
    {
     "data": {
      "text/plain": [
       "[<matplotlib.lines.Line2D at 0x2b3956a1df50>]"
      ]
     },
     "execution_count": 6,
     "metadata": {},
     "output_type": "execute_result"
    },
    {
     "data": {
      "image/png": "[encoded data removed]",
      "text/plain": [
       "<Figure size 432x288 with 1 Axes>"
      ]
     },
     "metadata": {
      "needs_background": "light"
     },
     "output_type": "display_data"
    }
   ],
   "source": [
    "x=np.linspace(-5.,5,100)\n",
    "#%timeit hatFunc1(x)\n",
    "#%timeit hatFunc2(x)\n",
    "y=map(hatFunc2,x)\n",
    "plt.plot(x,y)"
   ]
  },
  {
   "cell_type": "code",
   "execution_count": 7,
   "metadata": {},
   "outputs": [],
   "source": [
    "# 2."
   ]
  },
  {
   "cell_type": "code",
   "execution_count": 8,
   "metadata": {},
   "outputs": [],
   "source": [
    "def ball_plot(m,v0):\n",
    "    g=9.8\n",
    "    t=np.linspace(0,2,51)\n",
    "    y=(v0*t)-((1/2)*g*(t**2))\n",
    "    v=v0-(g*t)\n",
    "    Pot=m*g*y\n",
    "    Ken=.5*m*v**2\n",
    "    Esum=Pot+Ken\n",
    "    plt.plot(t,Pot)\n",
    "    plt.hold(\"on\")\n",
    "    plt.plot(t,Ken)\n",
    "    plt.hold(\"on\")\n",
    "    plt.plot(t,Esum)"
   ]
  },
  {
   "cell_type": "code",
   "execution_count": 9,
   "metadata": {},
   "outputs": [
    {
     "name": "stderr",
     "output_type": "stream",
     "text": [
      "/opt/apps/intel18/python2/2.7.15/lib/python2.7/site-packages/ipykernel_launcher.py:10: MatplotlibDeprecationWarning: pyplot.hold is deprecated.\n",
      "    Future behavior will be consistent with the long-time default:\n",
      "    plot commands add elements without first clearing the\n",
      "    Axes and/or Figure.\n",
      "  # Remove the CWD from sys.path while we load stuff.\n",
      "/opt/apps/intel18/python2/2.7.15/lib/python2.7/site-packages/matplotlib/__init__.py:910: MatplotlibDeprecationWarning: axes.hold is deprecated. Please remove it from your matplotlibrc and/or style files.\n",
      "  mplDeprecation)\n",
      "/opt/apps/intel18/python2/2.7.15/lib/python2.7/site-packages/matplotlib/rcsetup.py:156: MatplotlibDeprecationWarning: axes.hold is deprecated, will be removed in 3.0\n",
      "  mplDeprecation)\n",
      "/opt/apps/intel18/python2/2.7.15/lib/python2.7/site-packages/ipykernel_launcher.py:12: MatplotlibDeprecationWarning: pyplot.hold is deprecated.\n",
      "    Future behavior will be consistent with the long-time default:\n",
      "    plot commands add elements without first clearing the\n",
      "    Axes and/or Figure.\n",
      "  if sys.path[0] == '':\n"
     ]
    },
    {
     "data": {
      "image/png": "[encoded data removed]",
      "text/plain": [
       "<Figure size 432x288 with 1 Axes>"
      ]
     },
     "metadata": {
      "needs_background": "light"
     },
     "output_type": "display_data"
    }
   ],
   "source": [
    "ball_plot(3,4)"
   ]
  },
  {
   "cell_type": "code",
   "execution_count": 10,
   "metadata": {},
   "outputs": [],
   "source": [
    "# 3."
   ]
  },
  {
   "cell_type": "code",
   "execution_count": 11,
   "metadata": {},
   "outputs": [],
   "source": [
    "def midpoint(f,a,b,n):\n",
    "    h=(b-a)/n\n",
    "    sumf=0\n",
    "    for i in range(0,(n-1)):\n",
    "        sumf+=f(a+(i*h)+(.5*h))\n",
    "    return sumf*h"
   ]
  },
  {
   "cell_type": "code",
   "execution_count": 12,
   "metadata": {},
   "outputs": [
    {
     "name": "stdout",
     "output_type": "stream",
     "text": [
      "1.68702685347159\n",
      "0.3102914434849978\n",
      "1.9591030712941107\n",
      "0.8444334155480926\n"
     ]
    }
   ],
   "source": [
    "print midpoint(np.exp,0,np.log(3),10)\n",
    "print midpoint(np.cos,0,np.pi,10)\n",
    "print midpoint(np.sin,0,np.pi,10)\n",
    "print midpoint(np.sin,0,(np.pi/2),10)"
   ]
  },
  {
   "cell_type": "code",
   "execution_count": 13,
   "metadata": {},
   "outputs": [],
   "source": [
    "# 4."
   ]
  },
  {
   "cell_type": "code",
   "execution_count": 43,
   "metadata": {},
   "outputs": [
    {
     "name": "stdout",
     "output_type": "stream",
     "text": [
      "[0. 0. 0. 0. 0.]\n",
      "2\n",
      "4\n",
      "6\n",
      "8\n",
      "10\n"
     ]
    },
    {
     "data": {
      "text/plain": [
       "<matplotlib.collections.PolyCollection at 0x2b3956dfb9d0>"
      ]
     },
     "execution_count": 43,
     "metadata": {},
     "output_type": "execute_result"
    },
    {
     "data": {
      "image/png": "[encoded data removed]",
      "text/plain": [
       "<Figure size 432x288 with 1 Axes>"
      ]
     },
     "metadata": {
      "needs_background": "light"
     },
     "output_type": "display_data"
    }
   ],
   "source": [
    "def f(x):\n",
    "    return x*(12-x)+np.sin(x*np.pi)\n",
    "\n",
    "def barmake(f,a,b,n):\n",
    "    binsw=np.array((b-a)/n)\n",
    "    a1=np.zeros(n)\n",
    "    print a1\n",
    "    for i in a1:\n",
    "        a=a+binsw\n",
    "        i=a\n",
    "        print i\n",
    "    for i in a1:\n",
    "        plt.bar(i,midpoint(f,i,i+1,n),width=binsw)\n",
    "    \n",
    "barmake(f,0,10,5)    \n",
    "x=np.linspace(0,10,100)\n",
    "y=map(f,x)\n",
    "plt.plot(x,y)\n",
    "plt.fill_between(x,y)"
   ]
  },
  {
   "cell_type": "code",
   "execution_count": null,
   "metadata": {},
   "outputs": [],
   "source": []
  }
 ],
 "metadata": {
  "kernelspec": {
   "display_name": "Python 2",
   "language": "python",
   "name": "python2"
  },
  "language_info": {
   "codemirror_mode": {
    "name": "ipython",
    "version": 2
   },
   "file_extension": ".py",
   "mimetype": "text/x-python",
   "name": "python",
   "nbconvert_exporter": "python",
   "pygments_lexer": "ipython2",
   "version": "2.7.15"
  }
 },
 "nbformat": 4,
 "nbformat_minor": 2
}
