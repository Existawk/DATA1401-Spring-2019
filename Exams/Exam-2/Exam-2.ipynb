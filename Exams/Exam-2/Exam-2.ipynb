{
 "cells": [
  {
   "cell_type": "markdown",
   "metadata": {},
   "source": [
    "# Exam 2\n",
    "\n",
    "We are going to keep working on the grade book system we have been building in class. The version of the grade book presented in lecture 17 has been copied into `gradebook.py`, so we can simply load it using:"
   ]
  },
  {
   "cell_type": "code",
   "execution_count": 39,
   "metadata": {},
   "outputs": [],
   "source": [
    "from gradebook import *"
   ]
  },
  {
   "cell_type": "markdown",
   "metadata": {},
   "source": [
    "Recall that we can build a grade book from a CSV file with the following example, which now has been wrapped up into a function."
   ]
  },
  {
   "cell_type": "code",
   "execution_count": 40,
   "metadata": {},
   "outputs": [],
   "source": [
    "import pandas as pd\n",
    "\n",
    "def load_class(filename):\n",
    "    class_data=pd.read_csv(filename)\n",
    "\n",
    "    a_grade_book=grade_book(\"Data 1401\")\n",
    "\n",
    "    for student_i in range(class_data.shape[0]):\n",
    "        a_student_0=student(\"Student\",str(student_i),student_i)\n",
    "\n",
    "        for k in class_data.keys():\n",
    "            a_student_0.add_grade(grade(k,value=class_data[k][student_i]))\n",
    "\n",
    "        a_grade_book.add_student(a_student_0)\n",
    "        \n",
    "    return a_grade_book\n",
    "\n",
    "my_grade_book=load_class(\"Data1401-Grades.csv\")"
   ]
  },
  {
   "cell_type": "markdown",
   "metadata": {},
   "source": [
    "You may use all of the classes from this version of the grade book for the exam.\n",
    "\n",
    "## CSV Reader Revisited\n",
    "\n",
    "Recall the CSV reader we wrote in class:"
   ]
  },
  {
   "cell_type": "code",
   "execution_count": 41,
   "metadata": {},
   "outputs": [],
   "source": [
    "def csv_reader_0(filename):\n",
    "    file_obj = open(filename,\"r\")\n",
    "\n",
    "    data=list()\n",
    "\n",
    "    first = True\n",
    "    \n",
    "    for line in file_obj:\n",
    "        line=line.strip(\"\\r\\n\")\n",
    "        if first:\n",
    "            first=False\n",
    "            keys = line.split(\",\")\n",
    "        else:\n",
    "            values=map(float,line.split(\",\"))\n",
    "            this_line=dict()\n",
    "            \n",
    "            for k,v in zip(keys,values):\n",
    "                this_line[k]=v\n",
    "\n",
    "            data.append(this_line)\n",
    "            \n",
    "    file_obj.close()\n",
    "    \n",
    "    return data\n",
    "\n",
    "# Test with: \n",
    "# loaded_data=csv_reader_0(\"Data1401-Grades.csv\")"
   ]
  },
  {
   "cell_type": "markdown",
   "metadata": {},
   "source": [
    "*Question 1:* Convert the load function below to work with this data structure. This should be trivial since the data structure created by `csv_reader_0` should present a similar interface to pandas' `dataframe`."
   ]
  },
  {
   "cell_type": "code",
   "execution_count": 42,
   "metadata": {},
   "outputs": [],
   "source": [
    "# Convert this function\n",
    "\n",
    "def load_class_0(filename):\n",
    "    class_data=csv_reader_0(filename)\n",
    "\n",
    "    a_grade_book=grade_book(\"Data 1401\")\n",
    "\n",
    "    for student_i in range(len(class_data)):\n",
    "        a_student_0=student(\"Student\",str(student_i),student_i)\n",
    "\n",
    "        for k in class_data[0]:\n",
    "            a_student_0.add_grade(grade(k,value=class_data[student_i][k]))\n",
    "\n",
    "        a_grade_book.add_student(a_student_0)\n",
    "        \n",
    "    return a_grade_book\n",
    "\n",
    "# Test with:\n",
    "my_grade_book_0=load_class_0(\"Data1401-Grades.csv\")"
   ]
  },
  {
   "cell_type": "markdown",
   "metadata": {},
   "source": [
    "*Question 1:* Start with the `csv_reader` function above which presently returns the data it loads as a list of dictionaries, where each element of the list is corresponds to a row of data and the dictionaries are keyed by the column name. For example `data[5][\"l3_5\"]` corresponds to the 6th student's grade on lab 3 question 5. Convert it to instead output a list of lists (i.e. a 2-D array or matrix) and a dictionary, where each element of the \"matrix\" corresponds to a a specific grade for a specific student and the dictionary maps the name of the column to the column index. For example `data[5][column_names[\"l1_5\"]]` would correspond to the 6th student's grade on lab 3 question 5. Next, convert the `load_class` function."
   ]
  },
  {
   "cell_type": "code",
   "execution_count": 43,
   "metadata": {},
   "outputs": [],
   "source": [
    "# Convert this function\n",
    "def csv_reader_1(filename):\n",
    "    file_obj = open(filename,\"r\")\n",
    "\n",
    "    data=list()\n",
    "\n",
    "    first = True\n",
    "    \n",
    "    for line in file_obj:\n",
    "        line=line.strip(\"\\r\\n\")\n",
    "        if first:\n",
    "            first=False\n",
    "            keys = line.split(\",\")\n",
    "        else:\n",
    "            values=map(float,line.split(\",\"))\n",
    "            this_line=dict()\n",
    "            \n",
    "            for k,v in zip(keys,values):\n",
    "                this_line[k]=v\n",
    "\n",
    "            data.append(this_line)\n",
    "            \n",
    "    file_obj.close()\n",
    "    \n",
    "    return data\n",
    "\n",
    "# Test with: \n",
    "# loaded_data_1=csv_reader_1(\"Data1401-Grades.csv\")"
   ]
  },
  {
   "cell_type": "code",
   "execution_count": 44,
   "metadata": {},
   "outputs": [],
   "source": [
    "# Convert this function\n",
    "\n",
    "def load_class_1(filename):\n",
    "    class_data=csv_reader_1(filename)\n",
    "\n",
    "    a_grade_book=grade_book(\"Data 1401\")\n",
    "\n",
    "    for student_i in range(class_data.shape[0]):\n",
    "        a_student_0=student(\"Student\",str(student_i),student_i)\n",
    "\n",
    "        for k in class_data.keys():\n",
    "            a_student_0.add_grade(grade(k,value=class_data[k][student_i]))\n",
    "\n",
    "        a_grade_book.add_student(a_student_0)\n",
    "        \n",
    "    return a_grade_book\n",
    "\n",
    "# Test with:\n",
    "# my_grade_book_1=load_class_1(\"Data1401-Grades.csv\")"
   ]
  },
  {
   "cell_type": "markdown",
   "metadata": {},
   "source": [
    "*Question 2:* Now convert the function to output a dictionary of lists, where each element of the dictionary corresponds to a column of data and the lists contain the data in that column. For example `data[\"l3_5\"][5]` would correspond to the 6th student's grade on lab 3 question 5. Next, convert the `load_class` function.\n"
   ]
  },
  {
   "cell_type": "code",
   "execution_count": 45,
   "metadata": {
    "scrolled": false
   },
   "outputs": [],
   "source": [
    "# Convert this function\n",
    "def csv_reader_2(filename):\n",
    "    file_obj = open(filename,\"r\")\n",
    "\n",
    "    data=list()\n",
    "\n",
    "    first = True\n",
    "    \n",
    "    for line in file_obj:\n",
    "        line=line.strip(\"\\r\\n\")\n",
    "        if first:\n",
    "            first=False\n",
    "            keys = line.split(\",\")\n",
    "        else:\n",
    "            values=map(float,line.split(\",\"))\n",
    "            this_line=dict()\n",
    "            \n",
    "            for k,v in zip(keys,values):\n",
    "                this_line[k]=v\n",
    "\n",
    "            data.append(this_line)\n",
    "            \n",
    "    file_obj.close()\n",
    "    \n",
    "    return data\n",
    "\n",
    "# Test with: loaded_data_2=csv_reader_2(\"Data1401-Grades.csv\")"
   ]
  },
  {
   "cell_type": "code",
   "execution_count": 46,
   "metadata": {},
   "outputs": [],
   "source": [
    "# Convert this function\n",
    "\n",
    "def load_class_2(filename):\n",
    "    class_data=csv_reader_2(filename)\n",
    "\n",
    "    a_grade_book=grade_book(\"Data 1401\")\n",
    "\n",
    "    for student_i in range(class_data.shape[0]):\n",
    "        a_student_0=student(\"Student\",str(student_i),student_i)\n",
    "\n",
    "        for k in class_data.keys():\n",
    "            a_student_0.add_grade(grade(k,value=class_data[k][student_i]))\n",
    "\n",
    "        a_grade_book.add_student(a_student_0)\n",
    "        \n",
    "    return a_grade_book\n",
    "\n",
    "# Test with:\n",
    "# my_grade_book_2=load_class_2(\"Data1401-Grades.csv\")"
   ]
  },
  {
   "cell_type": "markdown",
   "metadata": {
    "collapsed": true
   },
   "source": [
    "*Question 3:* Now convert the function so that the fields that it reads do not have to be numbers. When reading parsing a field, check it can be converted to a float, if not, then store it as a string. Note the different test file for this function, which now had names added as a column. Modify the `load_class` function to use this reader, using the name read from the file.\n"
   ]
  },
  {
   "cell_type": "code",
   "execution_count": 47,
   "metadata": {},
   "outputs": [],
   "source": [
    "# Convert this function\n",
    "def csv_reader(filename):\n",
    "    file_obj = open(filename,\"r\")\n",
    "\n",
    "    data=list()\n",
    "\n",
    "    first = True\n",
    "    \n",
    "    for line in file_obj:\n",
    "        line=line.strip(\"\\r\\n\")\n",
    "        if first:\n",
    "            first=False\n",
    "            keys = line.split(\",\")\n",
    "        else:\n",
    "            values=map(float,line.split(\",\"))\n",
    "            this_line=dict()\n",
    "            \n",
    "            for k,v in zip(keys,values):\n",
    "                this_line[k]=v\n",
    "\n",
    "            data.append(this_line)\n",
    "            \n",
    "    file_obj.close()\n",
    "    \n",
    "    return data\n",
    "\n",
    "# Test with: \n",
    "# loaded_data=csv_reader(\"Data1401-Grades-Strings.csv\")"
   ]
  },
  {
   "cell_type": "code",
   "execution_count": 48,
   "metadata": {},
   "outputs": [],
   "source": [
    "# Convert this function\n",
    "\n",
    "def load_class(filename):\n",
    "    class_data=csv_reader(filename)\n",
    "\n",
    "    a_grade_book=grade_book(\"Data 1401\")\n",
    "\n",
    "    for student_i in range(class_data.shape[0]):\n",
    "        a_student_0=student(\"Student\",str(student_i),student_i)\n",
    "\n",
    "        for k in class_data.keys():\n",
    "            a_student_0.add_grade(grade(k,value=class_data[k][student_i]))\n",
    "\n",
    "        a_grade_book.add_student(a_student_0)\n",
    "        \n",
    "    return a_grade_book\n",
    "\n",
    "# Test with:\n",
    "# my_grade_book=load_class(\"Data1401-Grades-Strings.csv\")"
   ]
  },
  {
   "cell_type": "markdown",
   "metadata": {},
   "source": [
    "## Chaining Algorithms\n",
    "\n",
    "The following example curves the exam 1 grades:\n"
   ]
  },
  {
   "cell_type": "code",
   "execution_count": 49,
   "metadata": {},
   "outputs": [],
   "source": [
    "my_grade_book.apply_calculator(grade_summer(\"e1_\"),overwrite=True)\n",
    "my_grade_book.apply_calculator(mean_std_calculator(\"e1_sum\",60))\n",
    "my_grade_book.apply_calculator(curved_letter_grade(\"e1_sum\",my_grade_book[\"e1_sum Mean\"],my_grade_book[\"e1_sum STD\"]),overwrite=True)"
   ]
  },
  {
   "cell_type": "code",
   "execution_count": 50,
   "metadata": {},
   "outputs": [
    {
     "name": "stdout",
     "output_type": "stream",
     "text": [
      "Student 0 Student Data e1_sum: 35.0 e1_sum Letter: F-\n",
      "Student 1 Student Data e1_sum: 0 e1_sum Letter: F-\n",
      "Student 2 Student Data e1_sum: 20.0 e1_sum Letter: F-\n",
      "Student 3 Student Data e1_sum: 115.0 e1_sum Letter: B\n",
      "Student 4 Student Data e1_sum: 24.0 e1_sum Letter: F-\n",
      "Student 5 Student Data e1_sum: 95.0 e1_sum Letter: C-\n",
      "Student 6 Student Data e1_sum: 37.0 e1_sum Letter: F-\n",
      "Student 7 Student Data e1_sum: 77.0 e1_sum Letter: F+\n",
      "Student 8 Student Data e1_sum: 103.0 e1_sum Letter: C\n",
      "Student 9 Student Data e1_sum: 117.0 e1_sum Letter: B\n",
      "Student 10 Student Data e1_sum: 138.0 e1_sum Letter: A+\n",
      "Student 11 Student Data e1_sum: 110.0 e1_sum Letter: B-\n",
      "Student 12 Student Data e1_sum: 104.0 e1_sum Letter: C\n",
      "Student 13 Student Data e1_sum: 111.0 e1_sum Letter: B-\n",
      "Student 14 Student Data e1_sum: 103.0 e1_sum Letter: C\n",
      "Student 15 Student Data e1_sum: 134.0 e1_sum Letter: A\n"
     ]
    }
   ],
   "source": [
    "my_grade_book.print_grades([\"e1_sum\",\"e1_sum Letter\"])"
   ]
  },
  {
   "cell_type": "markdown",
   "metadata": {},
   "source": [
    "The following function generalizes curving you can use it to curve any grade:"
   ]
  },
  {
   "cell_type": "code",
   "execution_count": 51,
   "metadata": {},
   "outputs": [],
   "source": [
    "def curve(a_grade_book,prefix,cut_off=None):\n",
    "    a_grade_book.apply_calculator(grade_summer(prefix),overwrite=True)\n",
    "    a_grade_book.apply_calculator(mean_std_calculator(prefix+\"sum\",cut_off))\n",
    "    a_grade_book.apply_calculator(curved_letter_grade(prefix+\"sum\",a_grade_book[prefix+\"sum Mean\"],a_grade_book[prefix+\"sum STD\"]),overwrite=True)\n",
    "    stats=a_grade_book.get_data(prefix)\n",
    "    for k,v in stats.iteritems():\n",
    "        print k,v\n",
    "    a_grade_book.print_grades([prefix+\"sum\",prefix+\"sum Letter\"])   "
   ]
  },
  {
   "cell_type": "code",
   "execution_count": 52,
   "metadata": {},
   "outputs": [
    {
     "name": "stdout",
     "output_type": "stream",
     "text": [
      "l2_sum Max 69.0\n",
      "l2_sum Min 0\n",
      "l2_sum Mean 51.09375\n",
      "l2_sum STD 21.0566340125\n",
      "Student 0 Student Data l2_sum: 58.0 l2_sum Letter: B\n",
      "Student 1 Student Data l2_sum: 0 l2_sum Letter: F\n",
      "Student 2 Student Data l2_sum: 0 l2_sum Letter: F\n",
      "Student 3 Student Data l2_sum: 62.0 l2_sum Letter: B\n",
      "Student 4 Student Data l2_sum: 49.5 l2_sum Letter: C+\n",
      "Student 5 Student Data l2_sum: 69.0 l2_sum Letter: B+\n",
      "Student 6 Student Data l2_sum: 54.5 l2_sum Letter: B-\n",
      "Student 7 Student Data l2_sum: 69.0 l2_sum Letter: B+\n",
      "Student 8 Student Data l2_sum: 39.5 l2_sum Letter: C\n",
      "Student 9 Student Data l2_sum: 60.0 l2_sum Letter: B\n",
      "Student 10 Student Data l2_sum: 47.0 l2_sum Letter: C+\n",
      "Student 11 Student Data l2_sum: 68.5 l2_sum Letter: B+\n",
      "Student 12 Student Data l2_sum: 64.0 l2_sum Letter: B\n",
      "Student 13 Student Data l2_sum: 49.5 l2_sum Letter: C+\n",
      "Student 14 Student Data l2_sum: 68.0 l2_sum Letter: B+\n",
      "Student 15 Student Data l2_sum: 59.0 l2_sum Letter: B\n"
     ]
    }
   ],
   "source": [
    "curve(my_grade_book,\"l2_\")"
   ]
  },
  {
   "cell_type": "markdown",
   "metadata": {},
   "source": [
    "*Question 4:* Write a function that takes a list of prefixes and apply curve to each. Use it to curve every grade."
   ]
  },
  {
   "cell_type": "markdown",
   "metadata": {},
   "source": [
    "*Question 5:* Modify `curve` so that it deterines the `cut_off` automatically, using 50\\% of max grade as the cut off."
   ]
  },
  {
   "cell_type": "code",
   "execution_count": 53,
   "metadata": {},
   "outputs": [],
   "source": [
    "# Modify this function\n",
    "def curve(a_grade_book,prefix,cut_off=None):\n",
    "    a_grade_book.apply_calculator(grade_summer(prefix),overwrite=True)\n",
    "    highest_grade=a_grade_book[prefix]\n",
    "    for grade in a_grade_book[prefix]:\n",
    "        if grade>highest_grade:\n",
    "            highest_grade=grade\n",
    "    cut_off=(highest_grade/2)\n",
    "    a_grade_book.apply_calculator(mean_std_calculator(prefix+\"sum\",cut_off))\n",
    "    a_grade_book.apply_calculator(curved_letter_grade(prefix+\"sum\",a_grade_book[prefix+\"sum Mean\"],a_grade_book[prefix+\"sum STD\"]),overwrite=True)\n",
    "    stats=a_grade_book.get_data(prefix)\n",
    "    for k,v in stats.iteritems():\n",
    "        print k,v\n",
    "    a_grade_book.print_grades([prefix+\"sum\",prefix+\"sum Letter\"])   "
   ]
  },
  {
   "cell_type": "markdown",
   "metadata": {},
   "source": [
    "*Question 5:* Write an algorithm that computes the number of A, B, C, D, and F grades for a prefix.  "
   ]
  },
  {
   "cell_type": "code",
   "execution_count": 54,
   "metadata": {},
   "outputs": [],
   "source": [
    "def letter_grade_counter(a_grade_book,prefix):\n",
    "    curve(a_grade_book,prefix)\n",
    "    \n",
    "    grades={\"A\":0,\"B\":0,\"C\":0,\"D\":0,\"F\":0}\n",
    "    \n",
    "    for grade in a_grade_book[prefix]:\n",
    "        grade.print_grade"
   ]
  },
  {
   "cell_type": "code",
   "execution_count": 59,
   "metadata": {},
   "outputs": [
    {
     "ename": "KeyError",
     "evalue": "'e1'",
     "output_type": "error",
     "traceback": [
      "\u001b[0;31m\u001b[0m",
      "\u001b[0;31mKeyError\u001b[0mTraceback (most recent call last)",
      "\u001b[0;32m<ipython-input-59-217c3b75c9f9>\u001b[0m in \u001b[0;36m<module>\u001b[0;34m()\u001b[0m\n\u001b[0;32m----> 1\u001b[0;31m \u001b[0mletter_grade_counter\u001b[0m\u001b[0;34m(\u001b[0m\u001b[0mmy_grade_book\u001b[0m\u001b[0;34m,\u001b[0m\u001b[0;34m\"e1\"\u001b[0m\u001b[0;34m)\u001b[0m\u001b[0;34m\u001b[0m\u001b[0m\n\u001b[0m",
      "\u001b[0;32m<ipython-input-54-aef132de1535>\u001b[0m in \u001b[0;36mletter_grade_counter\u001b[0;34m(a_grade_book, prefix)\u001b[0m\n\u001b[1;32m      1\u001b[0m \u001b[0;32mdef\u001b[0m \u001b[0mletter_grade_counter\u001b[0m\u001b[0;34m(\u001b[0m\u001b[0ma_grade_book\u001b[0m\u001b[0;34m,\u001b[0m\u001b[0mprefix\u001b[0m\u001b[0;34m)\u001b[0m\u001b[0;34m:\u001b[0m\u001b[0;34m\u001b[0m\u001b[0m\n\u001b[0;32m----> 2\u001b[0;31m     \u001b[0mcurve\u001b[0m\u001b[0;34m(\u001b[0m\u001b[0ma_grade_book\u001b[0m\u001b[0;34m,\u001b[0m\u001b[0mprefix\u001b[0m\u001b[0;34m)\u001b[0m\u001b[0;34m\u001b[0m\u001b[0m\n\u001b[0m\u001b[1;32m      3\u001b[0m \u001b[0;34m\u001b[0m\u001b[0m\n\u001b[1;32m      4\u001b[0m     \u001b[0mgrades\u001b[0m\u001b[0;34m=\u001b[0m\u001b[0;34m{\u001b[0m\u001b[0;34m\"A\"\u001b[0m\u001b[0;34m:\u001b[0m\u001b[0;36m0\u001b[0m\u001b[0;34m,\u001b[0m\u001b[0;34m\"B\"\u001b[0m\u001b[0;34m:\u001b[0m\u001b[0;36m0\u001b[0m\u001b[0;34m,\u001b[0m\u001b[0;34m\"C\"\u001b[0m\u001b[0;34m:\u001b[0m\u001b[0;36m0\u001b[0m\u001b[0;34m,\u001b[0m\u001b[0;34m\"D\"\u001b[0m\u001b[0;34m:\u001b[0m\u001b[0;36m0\u001b[0m\u001b[0;34m,\u001b[0m\u001b[0;34m\"F\"\u001b[0m\u001b[0;34m:\u001b[0m\u001b[0;36m0\u001b[0m\u001b[0;34m}\u001b[0m\u001b[0;34m\u001b[0m\u001b[0m\n\u001b[1;32m      5\u001b[0m \u001b[0;34m\u001b[0m\u001b[0m\n",
      "\u001b[0;32m<ipython-input-53-c349ff046260>\u001b[0m in \u001b[0;36mcurve\u001b[0;34m(a_grade_book, prefix, cut_off)\u001b[0m\n\u001b[1;32m      2\u001b[0m \u001b[0;32mdef\u001b[0m \u001b[0mcurve\u001b[0m\u001b[0;34m(\u001b[0m\u001b[0ma_grade_book\u001b[0m\u001b[0;34m,\u001b[0m\u001b[0mprefix\u001b[0m\u001b[0;34m,\u001b[0m\u001b[0mcut_off\u001b[0m\u001b[0;34m=\u001b[0m\u001b[0mNone\u001b[0m\u001b[0;34m)\u001b[0m\u001b[0;34m:\u001b[0m\u001b[0;34m\u001b[0m\u001b[0m\n\u001b[1;32m      3\u001b[0m     \u001b[0ma_grade_book\u001b[0m\u001b[0;34m.\u001b[0m\u001b[0mapply_calculator\u001b[0m\u001b[0;34m(\u001b[0m\u001b[0mgrade_summer\u001b[0m\u001b[0;34m(\u001b[0m\u001b[0mprefix\u001b[0m\u001b[0;34m)\u001b[0m\u001b[0;34m,\u001b[0m\u001b[0moverwrite\u001b[0m\u001b[0;34m=\u001b[0m\u001b[0mTrue\u001b[0m\u001b[0;34m)\u001b[0m\u001b[0;34m\u001b[0m\u001b[0m\n\u001b[0;32m----> 4\u001b[0;31m     \u001b[0mhighest_grade\u001b[0m\u001b[0;34m=\u001b[0m\u001b[0ma_grade_book\u001b[0m\u001b[0;34m[\u001b[0m\u001b[0mprefix\u001b[0m\u001b[0;34m]\u001b[0m\u001b[0;34m\u001b[0m\u001b[0m\n\u001b[0m\u001b[1;32m      5\u001b[0m     \u001b[0;32mfor\u001b[0m \u001b[0mgrade\u001b[0m \u001b[0;32min\u001b[0m \u001b[0ma_grade_book\u001b[0m\u001b[0;34m[\u001b[0m\u001b[0mprefix\u001b[0m\u001b[0;34m]\u001b[0m\u001b[0;34m:\u001b[0m\u001b[0;34m\u001b[0m\u001b[0m\n\u001b[1;32m      6\u001b[0m         \u001b[0;32mif\u001b[0m \u001b[0mgrade\u001b[0m\u001b[0;34m>\u001b[0m\u001b[0mhighest_grade\u001b[0m\u001b[0;34m:\u001b[0m\u001b[0;34m\u001b[0m\u001b[0m\n",
      "\u001b[0;32m/home1/06205/existawk/Solutions/DATA1401-Spring-2019/Exams/Exam-2/gradebook.py\u001b[0m in \u001b[0;36m__getitem__\u001b[0;34m(self, key)\u001b[0m\n\u001b[1;32m    107\u001b[0m     \u001b[0;31m# New method to access data\u001b[0m\u001b[0;34m\u001b[0m\u001b[0;34m\u001b[0m\u001b[0m\n\u001b[1;32m    108\u001b[0m     \u001b[0;32mdef\u001b[0m \u001b[0m__getitem__\u001b[0m\u001b[0;34m(\u001b[0m\u001b[0mself\u001b[0m\u001b[0;34m,\u001b[0m\u001b[0mkey\u001b[0m\u001b[0;34m)\u001b[0m\u001b[0;34m:\u001b[0m\u001b[0;34m\u001b[0m\u001b[0m\n\u001b[0;32m--> 109\u001b[0;31m         \u001b[0;32mreturn\u001b[0m \u001b[0mself\u001b[0m\u001b[0;34m.\u001b[0m\u001b[0m__data\u001b[0m\u001b[0;34m[\u001b[0m\u001b[0mkey\u001b[0m\u001b[0;34m]\u001b[0m\u001b[0;34m\u001b[0m\u001b[0m\n\u001b[0m\u001b[1;32m    110\u001b[0m \u001b[0;34m\u001b[0m\u001b[0m\n\u001b[1;32m    111\u001b[0m     \u001b[0;31m# New method to add data\u001b[0m\u001b[0;34m\u001b[0m\u001b[0;34m\u001b[0m\u001b[0m\n",
      "\u001b[0;31mKeyError\u001b[0m: 'e1'"
     ]
    }
   ],
   "source": [
    "letter_grade_counter(my_grade_book,\"e1\")"
   ]
  },
  {
   "cell_type": "code",
   "execution_count": null,
   "metadata": {},
   "outputs": [],
   "source": []
  }
 ],
 "metadata": {
  "kernelspec": {
   "display_name": "Python 2",
   "language": "python",
   "name": "python2"
  },
  "language_info": {
   "codemirror_mode": {
    "name": "ipython",
    "version": 2
   },
   "file_extension": ".py",
   "mimetype": "text/x-python",
   "name": "python",
   "nbconvert_exporter": "python",
   "pygments_lexer": "ipython2",
   "version": "2.7.15"
  }
 },
 "nbformat": 4,
 "nbformat_minor": 2
}
