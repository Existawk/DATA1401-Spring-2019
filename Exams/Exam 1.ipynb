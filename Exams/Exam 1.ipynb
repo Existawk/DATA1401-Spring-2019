{
 "cells": [
  {
   "cell_type": "code",
   "execution_count": 73,
   "metadata": {
    "collapsed": true
   },
   "outputs": [],
   "source": [
    "# questions:\n",
    "# 2a. do we need to change c to a float?\n",
    "# 3a. is my return a tuple? do I need to do anything special for the user for the diferent return types?\n",
    "# 3b&3c. do you want us to assume the given number is or isn't an index?\n",
    "# 4d. how do you want us to use 4b and 4c? I just used the code, do you want us to call add or scal?\n",
    "# 4f. is what I did correct?\n",
    "#\n",
    "#\n",
    "#\n",
    "#"
   ]
  },
  {
   "cell_type": "code",
   "execution_count": 74,
   "metadata": {
    "collapsed": true
   },
   "outputs": [],
   "source": [
    "# 2. Matrix Representation"
   ]
  },
  {
   "cell_type": "code",
   "execution_count": 75,
   "metadata": {
    "collapsed": true
   },
   "outputs": [],
   "source": [
    "#2a.\n",
    "def constant(n,m,c):\n",
    "    matrix=[]\n",
    "    for i in range (n):\n",
    "        matrixcol=[]\n",
    "        for j in range (m):\n",
    "            matrixcol.append(c)\n",
    "        matrix.append(matrixcol)   \n",
    "    return matrix        "
   ]
  },
  {
   "cell_type": "code",
   "execution_count": 76,
   "metadata": {},
   "outputs": [
    {
     "name": "stdout",
     "output_type": "stream",
     "text": [
      "['2.', '2.', '2.', '2.']\n",
      "['2.', '2.', '2.', '2.']\n",
      "['2.', '2.', '2.', '2.']\n",
      "['2.', '2.', '2.', '2.']\n",
      "['2.', '2.', '2.', '2.']\n",
      "['2.', '2.', '2.', '2.']\n",
      "['2.', '2.', '2.', '2.']\n"
     ]
    }
   ],
   "source": [
    "#2a.test\n",
    "mat2a=constant(7,4,\"2.\")\n",
    "for i in range(len(mat2a)):\n",
    "    print mat2a[i]"
   ]
  },
  {
   "cell_type": "code",
   "execution_count": 77,
   "metadata": {
    "collapsed": true
   },
   "outputs": [],
   "source": [
    "#2b.\n",
    "def zeros(n,m):\n",
    "    matrix=constant(n,m,0.)\n",
    "    return matrix\n",
    "def ones(n,m):\n",
    "    matrix=constant(n,m,1.)\n",
    "    return matrix"
   ]
  },
  {
   "cell_type": "code",
   "execution_count": 78,
   "metadata": {},
   "outputs": [
    {
     "name": "stdout",
     "output_type": "stream",
     "text": [
      "[0.0, 0.0, 0.0, 0.0, 0.0, 0.0]\n",
      "[0.0, 0.0, 0.0, 0.0, 0.0, 0.0]\n",
      "[1.0, 1.0, 1.0, 1.0]\n",
      "[1.0, 1.0, 1.0, 1.0]\n",
      "[1.0, 1.0, 1.0, 1.0]\n"
     ]
    }
   ],
   "source": [
    "#2b.test\n",
    "mat2b0=zeros(2,6)\n",
    "mat2b1=ones(3,4)\n",
    "for i in range(len(mat2b0)):\n",
    "    print mat2b0[i]\n",
    "for i in range(len(mat2b1)):\n",
    "    print mat2b1[i]"
   ]
  },
  {
   "cell_type": "code",
   "execution_count": 79,
   "metadata": {
    "collapsed": true
   },
   "outputs": [],
   "source": [
    "#2c.\n",
    "def eye(n):\n",
    "    matrix=[]\n",
    "    for i in range (n):\n",
    "        matrixcol=[]\n",
    "        for j in range (n):\n",
    "            if i==j:\n",
    "                matrixcol.append(1)\n",
    "            else:\n",
    "                matrixcol.append(0)\n",
    "        matrix.append(matrixcol)       \n",
    "    return matrix  "
   ]
  },
  {
   "cell_type": "code",
   "execution_count": 80,
   "metadata": {},
   "outputs": [
    {
     "name": "stdout",
     "output_type": "stream",
     "text": [
      "[1, 0, 0, 0, 0]\n",
      "[0, 1, 0, 0, 0]\n",
      "[0, 0, 1, 0, 0]\n",
      "[0, 0, 0, 1, 0]\n",
      "[0, 0, 0, 0, 1]\n"
     ]
    }
   ],
   "source": [
    "#2c.test\n",
    "mat2c=eye(5)\n",
    "for i in range(len(mat2c)):\n",
    "    print mat2c[i]"
   ]
  },
  {
   "cell_type": "code",
   "execution_count": 81,
   "metadata": {
    "collapsed": true
   },
   "outputs": [],
   "source": [
    "#3. Slicing"
   ]
  },
  {
   "cell_type": "code",
   "execution_count": 82,
   "metadata": {
    "collapsed": true
   },
   "outputs": [],
   "source": [
    "#3a.\n",
    "def shape(M):\n",
    "    for i in range(len(M)):\n",
    "        if len(M[0])!=len(M[i]):\n",
    "            return False\n",
    "    return len(M),(len(M[0]))"
   ]
  },
  {
   "cell_type": "code",
   "execution_count": 83,
   "metadata": {},
   "outputs": [
    {
     "name": "stdout",
     "output_type": "stream",
     "text": [
      "Columns: 7 Rows: 4\n",
      "False\n"
     ]
    }
   ],
   "source": [
    "#3a.test\n",
    "mat3a=shape(mat2a)\n",
    "print\"Columns:\",mat3a[0],\"Rows:\",mat3a[1]\n",
    "\n",
    "tupfail=shape([[0,0,0],[0,0]])\n",
    "print tupfail"
   ]
  },
  {
   "cell_type": "code",
   "execution_count": 84,
   "metadata": {
    "collapsed": true
   },
   "outputs": [],
   "source": [
    "#3b.\n",
    "def row(M,n):\n",
    "    mat=[]\n",
    "    for i in range(len(M)):\n",
    "        mat.append(M[i][n-1])\n",
    "    return mat \n",
    "def column(M,n):\n",
    "    return M[n-1]"
   ]
  },
  {
   "cell_type": "code",
   "execution_count": 85,
   "metadata": {},
   "outputs": [
    {
     "name": "stdout",
     "output_type": "stream",
     "text": [
      "Row 1:\n",
      "[1, 5]\n",
      "Column 2:\n",
      "[5, 6, 7, 8]\n"
     ]
    }
   ],
   "source": [
    "#3b.test\n",
    "mat3b=[[1,2,3,4],[5,6,7,8]]\n",
    "print \"Row 1:\"\n",
    "print row(mat3b,1)\n",
    "print \"Column 2:\"\n",
    "print column(mat3b,2)"
   ]
  },
  {
   "cell_type": "code",
   "execution_count": 86,
   "metadata": {
    "collapsed": true
   },
   "outputs": [],
   "source": [
    "#3c.\n",
    "def block(M,n_0,n_1,m_0,m_1):\n",
    "    M1=[]\n",
    "    for i in range(n_0-1,n_1):\n",
    "        M1temp=[]\n",
    "        for j in range(m_0-1,m_1):\n",
    "            M1temp.append(M[i][j])\n",
    "        M1.append(M1temp)    \n",
    "    return M1"
   ]
  },
  {
   "cell_type": "code",
   "execution_count": 87,
   "metadata": {},
   "outputs": [
    {
     "name": "stdout",
     "output_type": "stream",
     "text": [
      "Before:\n",
      "[1, 2, 3, 4]\n",
      "[5, 6, 7, 8]\n",
      "['a', 'b', 'c', 'd']\n",
      "['e', 'f', 'g', 'g']\n",
      "After:\n",
      "[6, 7]\n",
      "['b', 'c']\n"
     ]
    }
   ],
   "source": [
    "#3c.test\n",
    "mat3c=[[1,2,3,4],[5,6,7,8],[\"a\",\"b\",\"c\",\"d\"],[\"e\",\"f\",\"g\",\"g\"]]\n",
    "printmat=block(mat3c,2,3,2,3)\n",
    "print \"Before:\"\n",
    "for i in range(len(mat3c)):\n",
    "    print mat3c[i]\n",
    "print \"After:\"\n",
    "for i in range(len(printmat)):\n",
    "    print printmat[i]"
   ]
  },
  {
   "cell_type": "code",
   "execution_count": 88,
   "metadata": {
    "collapsed": true
   },
   "outputs": [],
   "source": [
    "#4. Matrix Operations"
   ]
  },
  {
   "cell_type": "code",
   "execution_count": 89,
   "metadata": {
    "collapsed": true
   },
   "outputs": [],
   "source": [
    "#4a.\n",
    "def transpose(M):\n",
    "    MT=[]\n",
    "    for i in range(len(M[0])):\n",
    "        MTtemp=[]\n",
    "        for j in range(len(M)):\n",
    "            MTtemp.append(M[j][i])\n",
    "        MT.append(MTtemp)    \n",
    "    return MT"
   ]
  },
  {
   "cell_type": "code",
   "execution_count": 90,
   "metadata": {},
   "outputs": [
    {
     "name": "stdout",
     "output_type": "stream",
     "text": [
      "Before:\n",
      "[1, 2, 3, 4]\n",
      "[5, 6, 7, 8]\n",
      "['a', 'b', 'c', 'd']\n",
      "['e', 'f', 'g', 'g']\n",
      "After:\n",
      "[1, 5, 'a', 'e']\n",
      "[2, 6, 'b', 'f']\n",
      "[3, 7, 'c', 'g']\n",
      "[4, 8, 'd', 'g']\n"
     ]
    }
   ],
   "source": [
    "#4a.test\n",
    "mat4a=transpose(mat3c)\n",
    "print \"Before:\"\n",
    "for i in range(len(mat3c)):\n",
    "    print mat3c[i]\n",
    "print \"After:\"\n",
    "for i in range(len(mat4a)):\n",
    "    print mat4a[i]"
   ]
  },
  {
   "cell_type": "code",
   "execution_count": 91,
   "metadata": {
    "collapsed": true
   },
   "outputs": [],
   "source": [
    "#4b.\n",
    "def scalarmul(M,c):\n",
    "    MS=[]\n",
    "    for i in range(len(M)):\n",
    "        MStemp=[]\n",
    "        for j in range(len(M[0])):\n",
    "            MStemp.append((M[i][j])*c)\n",
    "        MS.append(MStemp)    \n",
    "    return MS"
   ]
  },
  {
   "cell_type": "code",
   "execution_count": 92,
   "metadata": {},
   "outputs": [
    {
     "name": "stdout",
     "output_type": "stream",
     "text": [
      "Before:\n",
      "[1, 2, 3, 4]\n",
      "[5, 6, 7, 8]\n",
      "After:\n",
      "[2, 4, 6, 8]\n",
      "[10, 12, 14, 16]\n"
     ]
    }
   ],
   "source": [
    "#4b.test\n",
    "mat4b1=[[1,2,3,4],[5,6,7,8]]\n",
    "mat4b2=scalarmul(mat4b1,2)\n",
    "print \"Before:\"\n",
    "for i in range(len(mat4b1)):\n",
    "    print mat4b1[i]\n",
    "print \"After:\"\n",
    "for i in range(len(mat4b2)):\n",
    "    print mat4b2[i]"
   ]
  },
  {
   "cell_type": "code",
   "execution_count": 93,
   "metadata": {
    "collapsed": true
   },
   "outputs": [],
   "source": [
    "#4c.\n",
    "def add(M,N):\n",
    "    if len(M)!=len(N):\n",
    "        return False\n",
    "    for i in range(len(M)):\n",
    "        if len(M[i])!=len(N[i]):\n",
    "            return False\n",
    "    MA=[]\n",
    "    for i in range(len(M)):\n",
    "        MAtemp=[]\n",
    "        for j in range(len(M[0])):\n",
    "            MAtemp.append((M[i][j])+N[i][j])\n",
    "        MA.append(MAtemp)    \n",
    "    return MA"
   ]
  },
  {
   "cell_type": "code",
   "execution_count": 94,
   "metadata": {},
   "outputs": [
    {
     "name": "stdout",
     "output_type": "stream",
     "text": [
      "fail check 1:\n",
      "False\n",
      "fail check 2:\n",
      "False\n",
      "M:\n",
      "[1, 2, 3, 4]\n",
      "[5, 6, 7, 8]\n",
      "N:\n",
      "[2, 4, 6, 8]\n",
      "[10, 12, 14, 16]\n",
      "M+N:\n",
      "[3, 6, 9, 12]\n",
      "[15, 18, 21, 24]\n"
     ]
    }
   ],
   "source": [
    "#4c.test\n",
    "mat4c1=add(mat4b1,mat4b2)\n",
    "print \"fail check 1:\"\n",
    "print add([[1,2,3],[4,5,6]],[[1,2,3],[4,5,6],[7,8,9]])\n",
    "print \"fail check 2:\"\n",
    "print add([[1,2,3],[4,5,6]],[[1,2,3],[4,5]])\n",
    "print \"M:\"\n",
    "for i in range(len(mat4b1)):\n",
    "    print mat4b1[i]\n",
    "print \"N:\"\n",
    "for i in range(len(mat4b2)):\n",
    "    print mat4b2[i]\n",
    "print \"M+N:\"\n",
    "for i in range(len(mat4c1)):\n",
    "    print mat4c1[i]"
   ]
  },
  {
   "cell_type": "code",
   "execution_count": 95,
   "metadata": {
    "collapsed": true
   },
   "outputs": [],
   "source": [
    "#4d.\n",
    "def sub(M,N):\n",
    "    if len(M)!=len(N):\n",
    "        return False\n",
    "    for i in range(len(M)):\n",
    "        if len(M[i])!=len(N[i]):\n",
    "            return False\n",
    "    MSu=[]\n",
    "    for i in range(len(M)):\n",
    "        MSutemp=[]\n",
    "        for j in range(len(M[0])):\n",
    "            MSutemp.append((M[i][j])-N[i][j])\n",
    "        MSu.append(MSutemp) \n",
    "    return MSu"
   ]
  },
  {
   "cell_type": "code",
   "execution_count": 96,
   "metadata": {},
   "outputs": [
    {
     "name": "stdout",
     "output_type": "stream",
     "text": [
      "fail check 1:\n",
      "False\n",
      "fail check 2:\n",
      "False\n",
      "M:\n",
      "[1, 2, 3, 4]\n",
      "[5, 6, 7, 8]\n",
      "N:\n",
      "[2, 4, 6, 8]\n",
      "[10, 12, 14, 16]\n",
      "M-N:\n",
      "[-1, -2, -3, -4]\n",
      "[-5, -6, -7, -8]\n"
     ]
    }
   ],
   "source": [
    "#4d.test\n",
    "mat4d1=sub(mat4b1,mat4b2)\n",
    "print \"fail check 1:\"\n",
    "print sub([[1,2,3],[4,5,6]],[[1,2,3],[4,5,6],[7,8,9]])\n",
    "print \"fail check 2:\"\n",
    "print sub([[1,2,3],[4,5,6]],[[1,2,3],[4,5]])\n",
    "print \"M:\"\n",
    "for i in range(len(mat4b1)):\n",
    "    print mat4b1[i]\n",
    "print \"N:\"\n",
    "for i in range(len(mat4b2)):\n",
    "    print mat4b2[i]\n",
    "print \"M-N:\"\n",
    "for i in range(len(mat4d1)):\n",
    "    print mat4d1[i]"
   ]
  },
  {
   "cell_type": "code",
   "execution_count": 97,
   "metadata": {
    "collapsed": true
   },
   "outputs": [],
   "source": [
    "#4e.\n",
    "def elementmult(M,N):\n",
    "    if len(M)!=len(N):\n",
    "        return False\n",
    "    for i in range(len(M)):\n",
    "        if len(M[i])!=len(N[i]):\n",
    "            return False\n",
    "    ME=[]\n",
    "    for i in range(len(M)):\n",
    "        MEtemp=[]\n",
    "        for j in range(len(M[0])):\n",
    "            MEtemp.append((M[i][j])*N[i][j])\n",
    "        ME.append(MEtemp) \n",
    "    return ME"
   ]
  },
  {
   "cell_type": "code",
   "execution_count": 98,
   "metadata": {},
   "outputs": [
    {
     "name": "stdout",
     "output_type": "stream",
     "text": [
      "fail check 1:\n",
      "False\n",
      "fail check 2:\n",
      "False\n",
      "M:\n",
      "[1, 2, 3, 4]\n",
      "[5, 6, 7, 8]\n",
      "N:\n",
      "[2, 4, 6, 8]\n",
      "[10, 12, 14, 16]\n",
      "Element wise product of M and N:\n",
      "[2, 8, 18, 32]\n",
      "[50, 72, 98, 128]\n"
     ]
    }
   ],
   "source": [
    "#4e.test\n",
    "mat4e1=elementmult(mat4b1,mat4b2)\n",
    "print \"fail check 1:\"\n",
    "print elementmult([[1,2,3],[4,5,6]],[[1,2,3],[4,5,6],[7,8,9]])\n",
    "print \"fail check 2:\"\n",
    "print elementmult([[1,2,3],[4,5,6]],[[1,2,3],[4,5]])\n",
    "print \"M:\"\n",
    "for i in range(len(mat4b1)):\n",
    "    print mat4b1[i]\n",
    "print \"N:\"\n",
    "for i in range(len(mat4b2)):\n",
    "    print mat4b2[i]\n",
    "print \"Element wise product of M and N:\"\n",
    "for i in range(len(mat4e1)):\n",
    "    print mat4e1[i]"
   ]
  },
  {
   "cell_type": "code",
   "execution_count": 99,
   "metadata": {
    "collapsed": true
   },
   "outputs": [],
   "source": [
    "#4f.\n",
    "def matmult(M,N):\n",
    "    if len(M[0])!=len(N):\n",
    "        return False\n",
    "    MM=[]\n",
    "    for i in range(len(M)):\n",
    "        MMtemp=[]\n",
    "        for j in range(len(N[0])):\n",
    "            MMtemp.append(M[i][j]*N[i][j])\n",
    "        MM.append(MMtemp)\n",
    "    return MM"
   ]
  },
  {
   "cell_type": "code",
   "execution_count": 100,
   "metadata": {},
   "outputs": [
    {
     "name": "stdout",
     "output_type": "stream",
     "text": [
      "fail check:\n",
      "False\n",
      "M:\n",
      "[1, 2, 3, 4]\n",
      "[5, 6, 7, 8]\n",
      "N:\n",
      "[2, 10]\n",
      "[4, 12]\n",
      "[6, 14]\n",
      "[8, 16]\n",
      "The product of matrices M and N:\n",
      "[2, 20]\n",
      "[20, 72]\n"
     ]
    }
   ],
   "source": [
    "#4f.test\n",
    "mat4f1=matmult(mat4b1,transpose(mat4b2))\n",
    "print \"fail check:\"\n",
    "print matmult([[1,2,3],[4,5,6]],[[1,2,3],[4,5]])\n",
    "print \"M:\"\n",
    "for i in range(len(mat4b1)):\n",
    "    print mat4b1[i]\n",
    "print \"N:\"\n",
    "for i in range(len(transpose(mat4b2))):\n",
    "    print transpose(mat4b2)[i]\n",
    "print \"The product of matrices M and N:\"\n",
    "for i in range(len(mat4f1)):\n",
    "    print mat4f1[i]"
   ]
  },
  {
   "cell_type": "code",
   "execution_count": 101,
   "metadata": {
    "collapsed": true
   },
   "outputs": [],
   "source": [
    "#4g.\n",
    "def dot(A,B):\n",
    "    if len(A)!=len(B):\n",
    "        return False\n",
    "    MD=0\n",
    "    for i in range(len(A)):\n",
    "        MD+=A[i]*B[i]\n",
    "    return MD\n",
    "def outer(A,B):\n",
    "    if len(A)!=len(B):\n",
    "        return False\n",
    "    MO=[]\n",
    "    for i in range(len(A)):\n",
    "        MOtemp=[]\n",
    "        for j in range(len(B)):\n",
    "            MOtemp.append((A[i])*B[j])\n",
    "        MO.append(MOtemp) \n",
    "    return MO"
   ]
  },
  {
   "cell_type": "code",
   "execution_count": 102,
   "metadata": {},
   "outputs": [
    {
     "name": "stdout",
     "output_type": "stream",
     "text": [
      "Dot:\n",
      "130\n",
      "Outer:\n",
      "[6, 7, 8, 9, 10]\n",
      "[12, 14, 16, 18, 20]\n",
      "[18, 21, 24, 27, 30]\n",
      "[24, 28, 32, 36, 40]\n",
      "[30, 35, 40, 45, 50]\n"
     ]
    }
   ],
   "source": [
    "#4g.test\n",
    "A=[1,2,3,4,5]\n",
    "B=[6,7,8,9,10]\n",
    "print \"Dot:\"\n",
    "print dot(A,B)\n",
    "print \"Outer:\"\n",
    "for i in range(len(outer(A,B))):\n",
    "    print outer(A,B)[i]"
   ]
  },
  {
   "cell_type": "code",
   "execution_count": 103,
   "metadata": {},
   "outputs": [],
   "source": [
    "#5. Norms"
   ]
  },
  {
   "cell_type": "code",
   "execution_count": 104,
   "metadata": {
    "collapsed": true
   },
   "outputs": [],
   "source": [
    "#5a.\n",
    "def norm(M,i):\n",
    "    MN=0\n",
    "    for j in range(len(M)):\n",
    "        for k in range(len(M[0])):\n",
    "            MN+=M[j][k]**(i)       \n",
    "    MN=MN**(1./i)\n",
    "    return MN"
   ]
  },
  {
   "cell_type": "code",
   "execution_count": 105,
   "metadata": {},
   "outputs": [
    {
     "name": "stdout",
     "output_type": "stream",
     "text": [
      "5th Norm:\n",
      "35.2136337233\n",
      "10th Norm:\n",
      "16.0101877181\n",
      "1000th Norm:\n",
      "15.0001512916\n"
     ]
    }
   ],
   "source": [
    "#5a.test\n",
    "print \"5th Norm:\"\n",
    "print norm([[1,2,3,4,5],[6,7,8,9,10],[11,12,13,14,15]],2)\n",
    "print \"10th Norm:\"\n",
    "print norm([[1,2,3,4,5],[6,7,8,9,10],[11,12,13,14,15]],10)\n",
    "print \"1000th Norm:\"\n",
    "print norm([[1,2,3,4,5],[6,7,8,9,10],[11,12,13,14,15]],100)"
   ]
  },
  {
   "cell_type": "code",
   "execution_count": 106,
   "metadata": {
    "collapsed": true
   },
   "outputs": [],
   "source": [
    "#6. Linear Algebra"
   ]
  },
  {
   "cell_type": "code",
   "execution_count": 107,
   "metadata": {},
   "outputs": [
    {
     "ename": "SyntaxError",
     "evalue": "invalid syntax (<ipython-input-107-eac985170bfa>, line 2)",
     "output_type": "error",
     "traceback": [
      "\u001b[0;36m  File \u001b[0;32m\"<ipython-input-107-eac985170bfa>\"\u001b[0;36m, line \u001b[0;32m2\u001b[0m\n\u001b[0;31m    def inv(M)\u001b[0m\n\u001b[0m              ^\u001b[0m\n\u001b[0;31mSyntaxError\u001b[0m\u001b[0;31m:\u001b[0m invalid syntax\n"
     ]
    }
   ],
   "source": [
    "#6a.\n",
    "def inv(M)"
   ]
  },
  {
   "cell_type": "code",
   "execution_count": 108,
   "metadata": {
    "collapsed": true
   },
   "outputs": [],
   "source": [
    "#6a.test\n"
   ]
  }
 ],
 "metadata": {
  "kernelspec": {
   "display_name": "Python 2",
   "language": "python",
   "name": "python2"
  },
  "language_info": {
   "codemirror_mode": {
    "name": "ipython",
    "version": 2
   },
   "file_extension": ".py",
   "mimetype": "text/x-python",
   "name": "python",
   "nbconvert_exporter": "python",
   "pygments_lexer": "ipython2",
   "version": "2.7.15"
  }
 },
 "nbformat": 4,
 "nbformat_minor": 2
}
